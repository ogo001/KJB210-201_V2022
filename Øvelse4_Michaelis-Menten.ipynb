{
 "cells": [
  {
   "cell_type": "markdown",
   "metadata": {},
   "source": [
    "# Øvelse 4 - Michaelis-Menten "
   ]
  },
  {
   "cell_type": "markdown",
   "metadata": {},
   "source": [
    "***\n",
    "\n",
    "Se worddokument i canvas for dypere forklaringer om Michaelis-Menten og hvilke antagelser som trekkes for at ligningen skal være gyldig. For å se nærmere på hvordan vi kan bedømme kinetiske parametere som Km og Vmax på ulike måter, skal dere jobbe dere gjennom dette arbeidsarket og løse oppgavene. For å bedømme Km og Vmax med ulike metoder, skal vi bruke programmeringsspråket Python for å gjennomføre de nødvendige beregningene. Ved å bruke Python har vi bedre kontroll over databehandlingen, men det krever at vi må spesifisere hva vi ønsker å oppnå med kode. Som en innføring til Python og programmering benytter vi oss av Jupyter Notebook som verktøy, her kan vi skrive både kode og tekst, og alle stegene dere skal gjennomføre har forklarende tekst som skal sørge for at dere forstår hva som blir gjort. Ved bruk av Python skal vi bedømme Km og Vmax med tre vanlige metoder: \n",
    "\n",
    "1. Bedømme Km og Vmax visuelt\n",
    "2. Bedømme Km og Vmax med kurvetilpassning \n",
    "3. Bedømme Km og Vmax ved bruk av Lineweaver-Burke plot\n",
    "\n",
    "Når dere løser oppgavene nedover i dette arbeidsarket, tenk over hva dere gjør og hvordan dette påvirker troverdigheten til Km og Vmax resultatene. Hvis de eksperimentelle dataene deres ikke er gode nok til å hente ut Km og Vmax, så kan dere låne resultater fra en annen gruppe. \n",
    "\n",
    "\n",
    "***\n"
   ]
  },
  {
   "cell_type": "markdown",
   "metadata": {},
   "source": [
    "## Programmering "
   ]
  },
  {
   "cell_type": "markdown",
   "metadata": {},
   "source": [
    "***\n",
    "\n",
    "Python som programmeringsspråk er en av de enklere språkene og det er designet for å være brukervennlig. Jeg anbefaler at dere lærer dere Python, dette er ikke et krav for kurset eller relevant for eksamen, men kun en personlig anbefaling. I programmeringsspråk benytter vi oss av en bestemt syntax, som kan sammenlignes med grammatikk i norsk faget. For å gi dere en innføring til Python og hva det kan brukes til så har jeg skrevet all koden for dere og dere skal ikke skrive noe selv. For å hjelpe dere med å forstå litt om Python syntax, defineres noen sentrale elementer her:\n",
    "\n",
    "* '=' tegnet brukes til å definere en variabel, vi lagrer hva som er til høyre for tegnet i variablen definert på venstre side\n",
    "   * Variabler kan være int, string, float som betyr heltall, bokstaver eller desimaler \n",
    "* 'navn()' viser til en funksjon som gjør en oppgave, mens det inne i parantesen er argumenter som trengs for å gjennomføre        oppgaven \n",
    "* I Python teller vi fra 0, så første kolonne/rad vil være 0\n",
    "* `Print()` vil sende teksten innenfor parantesene til konsolen\n",
    "\n",
    "\n",
    "Python er et Open Source språk som betyr at informasjonen tilhørende koden er gratis tilgjengelig og det finnes derfor store ressurser på internett tilgjengelig for alle. Disse ressursene er som oftest kolleksjoner av kode som kan brukes av flere. Vi kan bruke `import` for å hente inn kolleksjoner med kode som vi kan benytte oss av. Ved å importere andre sin kode trenger vi ikke å skrive alt selv, dette er også en av fordelene ved Python.\n",
    "\n",
    "\n",
    "***"
   ]
  },
  {
   "cell_type": "code",
   "execution_count": 1,
   "metadata": {},
   "outputs": [],
   "source": [
    "import pandas as pd\n",
    "import numpy as np\n",
    "from scipy.optimize import curve_fit\n",
    "from sklearn.linear_model import LinearRegression\n",
    "import matplotlib.pyplot as plt"
   ]
  },
  {
   "cell_type": "markdown",
   "metadata": {},
   "source": [
    "### Metode 1: Bedømme Km og Vmax visuelt \n",
    "\n",
    "Ved å bedømme Km og Vmax visuelt, så ser vi på grafen av v mot [S] og bestemmer en horisontal linje som går parallellt med den hyperbole kurven (Vmax). Nedover i metode 1 skal dere endre på Vmax verdien slik at den ligger parallellt med de eksperimentelle resultatene deres. Når dere har bestemt Vmax, så kan dere gå videre å bestemme Km som substratkonsentrasjonen ved Vmax/2."
   ]
  },
  {
   "cell_type": "code",
   "execution_count": 2,
   "metadata": {},
   "outputs": [],
   "source": [
    "fil = open('Data.csv','r')                              \n",
    "data = pd.read_csv(fil, header = None, skiprows = 1)   \n",
    "                                                      \n",
    "S = (data[0])                                         \n",
    "v = (data[1])                                              "
   ]
  },
  {
   "cell_type": "markdown",
   "metadata": {},
   "source": [
    "***\n",
    "\n",
    "Det første vi gjør her er å bruke funksjonen `open()` til å åpne filen Data.csv og jeg spesifiserer til Python at filen skal kun leses (r). Deretter lagres informasjonen i variablen 'fil' som nå inneholder all informasjonen fra CSV filen deres, men for å bearbeide resultatene våre videre er det enklere å ha ett datasett som kun består av tall. Vi må dermed fjerne kolonnenavnene som kan gjøres ved å lage en ny variabel 'data' som vi bruker funksjonen `pd.read_csv()` for å lese inn dataen vår (fil). I argumentene kan vi spesifisere at det ikke skal være kolonnenavn med `header = None` og vi forteller Python at de skal hoppe over første linje med `skiprows = 1`, da fjernes kolonnenavnene dere la inn i .csv filen.\n",
    "\n",
    "Deretter lager vi nye variabler S og v med å hente ut dataen fra første og andre kolonne (0, 1) for å se på datasettet i konsolen ved å bruke `print(data)` \n",
    "\n",
    "\n",
    "***"
   ]
  },
  {
   "cell_type": "code",
   "execution_count": 3,
   "metadata": {},
   "outputs": [
    {
     "name": "stdout",
     "output_type": "stream",
     "text": [
      "          0        1   2   3\n",
      "0  0.000000  0.00000 NaN NaN\n",
      "1  0.000008  0.00015 NaN NaN\n",
      "2  0.000017  0.00020 NaN NaN\n",
      "3  0.000034  0.00035 NaN NaN\n",
      "4  0.000068  0.00055 NaN NaN\n",
      "5  0.000101  0.00055 NaN NaN\n",
      "6  0.000169  0.00075 NaN NaN\n",
      "7  0.000337  0.00080 NaN NaN\n",
      "8  0.000840  0.00085 NaN NaN\n",
      "9  0.002940  0.00090 NaN NaN\n"
     ]
    }
   ],
   "source": [
    "print(data)"
   ]
  },
  {
   "cell_type": "markdown",
   "metadata": {},
   "source": [
    "***\n",
    "Etter at vi har sett at datasettet er blitt lest inn riktig, ønsker vi å visualisere den ved bruk av en graf. I Python kan dette gjøres på flere måter, men her skal vi bruke pakken `plt.`. \n",
    "\n",
    "##### Oppgave 1.1: Gjør om på Vmax variablen for å lage en horisontal linje som skal ligge parallellt med dataplatået. \n",
    "\n",
    "\n",
    "\n",
    "***\n"
   ]
  },
  {
   "cell_type": "code",
   "execution_count": 4,
   "metadata": {},
   "outputs": [
    {
     "data": {
      "text/plain": [
       "<matplotlib.lines.Line2D at 0x26182d25910>"
      ]
     },
     "execution_count": 4,
     "metadata": {},
     "output_type": "execute_result"
    },
    {
     "data": {
      "image/png": "[encoded data removed]",
      "text/plain": [
       "<Figure size 432x288 with 1 Axes>"
      ]
     },
     "metadata": {
      "needs_background": "light"
     },
     "output_type": "display_data"
    }
   ],
   "source": [
    "plt.scatter(S,v)\n",
    "plt.title('Initialhastighet mot substratkonsentrasjon plot')\n",
    "plt.xlabel('[S]')\n",
    "plt.ylabel('v$_0$')\n",
    "\n",
    "Vmax = 0.0004\n",
    "\n",
    "plt.axhline(Vmax, color = 'black')\n",
    "\n"
   ]
  },
  {
   "cell_type": "code",
   "execution_count": 5,
   "metadata": {},
   "outputs": [
    {
     "name": "stdout",
     "output_type": "stream",
     "text": [
      "Ved å visuelt bedømme grafen er Vmax:0.0004\n"
     ]
    }
   ],
   "source": [
    "print(('Ved å visuelt bedømme grafen er Vmax:{}').format(Vmax))"
   ]
  },
  {
   "cell_type": "markdown",
   "metadata": {},
   "source": [
    "***\n",
    "\n",
    "Etter at vi har bestemt Vmax kan vi bestemme Km som er substratkonsentrasjonen ved Vmax/2. I grafen over vil det være vanskelig å bestemme Km. Vi kan derfor endre litt på figuraksene for å forstørre området hvor Km skal bestemmes, Python gir oss bedre kontroll, men det krever at vi spesifiserer det gjennom kode. \n",
    "\n",
    "For å se nærmere på området hvor Km skal bestemmes kan vi endre på x-aksen ved å bruke `plt.xlim()` funksjonen som mottar start og slutt verdiene som argument. Disse verdiene kan dere endre på om dere ønsker det. \n",
    "\n",
    "I tillegg ser vi at tallene begynner å bli små, for å lage et mer oversiktlig bilde bruker jeg funksjonen `plt.ticklabel_format()` hvor vi spesifiserer at vi vil endre begge aksene, og stilen skal være `sci` som er scientific feks. (1e04). Deretter forteller vi at begge aksene skal begynne på 0. \n",
    "\n",
    "##### Oppgave 1.2: Gjør om på Km variablen for å lage ett kryss med Vmax/2 (Horisontal linje) \n",
    "\n",
    "\n",
    "***"
   ]
  },
  {
   "cell_type": "code",
   "execution_count": 6,
   "metadata": {},
   "outputs": [
    {
     "data": {
      "text/plain": [
       "<matplotlib.lines.Line2D at 0x26182e6cca0>"
      ]
     },
     "execution_count": 6,
     "metadata": {},
     "output_type": "execute_result"
    },
    {
     "data": {
      "image/png": "[encoded data removed]",
      "text/plain": [
       "<Figure size 432x288 with 1 Axes>"
      ]
     },
     "metadata": {
      "needs_background": "light"
     },
     "output_type": "display_data"
    }
   ],
   "source": [
    "plt.plot(S,v)\n",
    "plt.title('Utsnitt av hastighet mot substrat plot ')\n",
    "plt.xlabel('[S]')\n",
    "plt.ylabel('v$_0$')\n",
    "plt.xlim(0,0.0003)\n",
    "plt.ticklabel_format(axis = 'both', style = 'sci', scilimits=(0,0))\n",
    "\n",
    "\n",
    "\n",
    "Vmax_halve = Vmax/2\n",
    "\n",
    "Km = 0.00008\n",
    "\n",
    "\n",
    "plt.axhline(Vmax_halve, color = 'black', linestyle = '--')\n",
    "plt.axvline(Km, color = 'black', linestyle = '--' )\n",
    "\n"
   ]
  },
  {
   "cell_type": "code",
   "execution_count": 7,
   "metadata": {},
   "outputs": [
    {
     "name": "stdout",
     "output_type": "stream",
     "text": [
      "Ved å visuelt bedømme grafen er Vmax:0.0004 og Km:8e-05\n"
     ]
    }
   ],
   "source": [
    "print(( 'Ved å visuelt bedømme grafen er Vmax:{} og Km:{}').format(Vmax, Km))"
   ]
  },
  {
   "cell_type": "markdown",
   "metadata": {},
   "source": [
    "### Metode 2: Bedømme Km og Vmax med kurvetilpassning\n",
    "\n",
    "For å bedømme Km og Vmax med kurvetilpassning bruker vi Michaelis-Menten funksjonen $v = Vmax[S]/Km + [S]$ til å beregne Km og Vmax verdier som passer de eksperimentelle resultatene best. Dette gjøres ved å gjennomføre en minstekvadratersmetode for hvert punkt. Datakolleksjoner for kurvetilpassning er tilgjengelig og vi benytter oss av importerte pakker.  "
   ]
  },
  {
   "cell_type": "markdown",
   "metadata": {},
   "source": [
    "***\n",
    "\n",
    "For å gjennomføre en kurvetilpassning av det eksperimentelle datsettet, benytter vi oss av en pakke `curve_fit` som inneholder en metode for å kurvetilpasse. Her gjennomfører vi en ikke-lineær minstekvadratersmetode, men for at denne pakken skal kunne gjennomføre oppgaven må vi oppgi den funksjonen vi ønsker å kurvetilpasse resultatene til. I Python syntax definerer vi en funksjon med ordet `def` og deretter navnet på den definerte funksjonen. I vårt tilfelle blir dette `def Michaelis_Menten_Funksjonen()`. Videre så spesifiserer vi argumentene som er substratkonsentrasjonene (S) og variabelene Km og Vmax. \n",
    "\n",
    "Slik som pakken er laget vil resultatet av fuksjonen være to variabler som er `Km_og_Vmax` variablen som vil inneholde kurvetilpasset Km og Vmax verdiene og `cov` variablen som er en statistisk beregning som vi ikke skal diskutere her og dere kan se bort i fra den.\n",
    "\n",
    "***"
   ]
  },
  {
   "cell_type": "code",
   "execution_count": 8,
   "metadata": {},
   "outputs": [],
   "source": [
    "def Michaelis_Menten_Funksjonen(S, km, vmax):\n",
    "        return((km*S)/(vmax+S))\n",
    "\n",
    "\n",
    "Km_og_Vmax, cov = curve_fit(f = Michaelis_Menten_Funksjonen, xdata = S,ydata = v)\n",
    "\n"
   ]
  },
  {
   "cell_type": "markdown",
   "metadata": {},
   "source": [
    "***\n",
    "\n",
    "Nå som vi har definert Michaelis-Menten funksjonen kan vi tegne den inn på figuren sammen med det eksperimentelle datasettet. I koden over definerte vi Km og Vmax ved kurvetilpassing, men for å vise det grafisk som en helttrukket linje må vi lage et sett med teoretisk data som følger den eksperimentelle. Vi kaller de teoretiske datasettene `xModel` og `yModel` og det er disse verdiene som lar oss trekke en heltrukket linje i figuren. \n",
    "\n",
    "Måten vi lager disse teoretiske datasettene på er å gi Michaelis-Menten funksjonen alle substratkonsentrasjoner fra den laveste `min(S)` til den høyeste `max(S)` og ved bruk av funksjonen `np.linspace()` fyller vi inn alle de manglende substratkonsentrasjonene. Deretter kan vi hente ut alle de tilsvarende hastighetene (v) for substratkonsentrasjonene mellom de laveste og høyeste verdiene i det eksperimentelle datasettet.  \n",
    "\n",
    "\n",
    "***"
   ]
  },
  {
   "cell_type": "code",
   "execution_count": 9,
   "metadata": {},
   "outputs": [],
   "source": [
    "xModel = np.linspace(min(S), max(S))\n",
    "yModel = Michaelis_Menten_Funksjonen(xModel, *Km_og_Vmax)"
   ]
  },
  {
   "cell_type": "markdown",
   "metadata": {},
   "source": [
    "##### Oppgave 2.1: Prøv å kurvetilpasse datasettet deres og noterer Km og Vmax, om det ikke går så hopper dere over denne. "
   ]
  },
  {
   "cell_type": "code",
   "execution_count": 10,
   "metadata": {
    "scrolled": true
   },
   "outputs": [
    {
     "data": {
      "text/plain": [
       "Text(0, 0.5, 'v$_0$')"
      ]
     },
     "execution_count": 10,
     "metadata": {},
     "output_type": "execute_result"
    },
    {
     "data": {
      "image/png": "[encoded data removed]",
      "text/plain": [
       "<Figure size 432x288 with 1 Axes>"
      ]
     },
     "metadata": {
      "needs_background": "light"
     },
     "output_type": "display_data"
    }
   ],
   "source": [
    "plt.plot(xModel, yModel)\n",
    "plt.scatter(S,v)\n",
    "plt.title('Kurvetilpasset data')\n",
    "plt.xlabel('[S]')\n",
    "plt.ylabel('v$_0$')\n"
   ]
  },
  {
   "cell_type": "code",
   "execution_count": 11,
   "metadata": {},
   "outputs": [
    {
     "name": "stdout",
     "output_type": "stream",
     "text": [
      "Ved bruk av kurvetilpassning er Vmax:0.0009187680928522808 og Km:5.235215587388615e-05\n"
     ]
    }
   ],
   "source": [
    "Vmax, Km = Km_og_Vmax\n",
    "print(('Ved bruk av kurvetilpassning er Vmax:{} og Km:{}').format(Vmax, Km))\n"
   ]
  },
  {
   "cell_type": "markdown",
   "metadata": {},
   "source": [
    "### Metode 3: Bedømme Km og Vmax med Lineweaver-Burke \n",
    "\n",
    "Lineweaver-Burke er en linearisering av den hyperbole Michaelis-Menten funksjonen til en lineær funksjon, dette gjøres ved å gjennomføre en resiprokal av Michaelis-Menten funksjonen. Vi kan ved bruk av denne metoden bestemme Vmax fra y-akseen og Km fra stigningstallet.  \n",
    "\n"
   ]
  },
  {
   "cell_type": "markdown",
   "metadata": {},
   "source": [
    "***\n",
    "\n",
    "Når vi skal gjøre om på de eksperimentelle resultatene fra S og v til 1/S og 1/v, så må vi fjerne 0 fra filene fordi 1/0 går ikke. Først så printer vi ut dataen for å se på den igjen.\n",
    "\n",
    "***"
   ]
  },
  {
   "cell_type": "code",
   "execution_count": 12,
   "metadata": {},
   "outputs": [
    {
     "name": "stdout",
     "output_type": "stream",
     "text": [
      "          0        1   2   3\n",
      "0  0.000000  0.00000 NaN NaN\n",
      "1  0.000008  0.00015 NaN NaN\n",
      "2  0.000017  0.00020 NaN NaN\n",
      "3  0.000034  0.00035 NaN NaN\n",
      "4  0.000068  0.00055 NaN NaN\n",
      "5  0.000101  0.00055 NaN NaN\n",
      "6  0.000169  0.00075 NaN NaN\n",
      "7  0.000337  0.00080 NaN NaN\n",
      "8  0.000840  0.00085 NaN NaN\n",
      "9  0.002940  0.00090 NaN NaN\n"
     ]
    }
   ],
   "source": [
    "print(data)"
   ]
  },
  {
   "cell_type": "markdown",
   "metadata": {},
   "source": [
    "***\n",
    "\n",
    "Vi kan be Python gjennomføre 1/x for alle tallene med unntak av den første raden. Det kan vi gjøre ved å kun lese inn fra den andre raden (husk at python teller fra 0) `1/data[kolonne][1:]`. Vi har nå løst problemet med å ha 0 i datasettet, men for å benytte oss av pakken `LinearRegression()` som skal gjennomføre lineærregresjonen må datasettet gjøres om til det formatet som pakken godtar. Resten av koden under gjennomfører en transposisjon av resultatene. \n",
    "***"
   ]
  },
  {
   "cell_type": "code",
   "execution_count": 13,
   "metadata": {},
   "outputs": [
    {
     "name": "stdout",
     "output_type": "stream",
     "text": [
      "[[119047.61904762]\n",
      " [ 59171.59763314]\n",
      " [ 29673.59050445]\n",
      " [ 14814.81481481]\n",
      " [  9900.99009901]\n",
      " [  5917.15976331]\n",
      " [  2967.35905045]\n",
      " [  1190.47619048]\n",
      " [   340.13605442]] [[6666.66666667]\n",
      " [5000.        ]\n",
      " [2857.14285714]\n",
      " [1818.18181818]\n",
      " [1818.18181818]\n",
      " [1333.33333333]\n",
      " [1250.        ]\n",
      " [1176.47058824]\n",
      " [1111.11111111]]\n"
     ]
    }
   ],
   "source": [
    "ENoverS = np.array((1/data[0][1:])).reshape(-1,1)\n",
    "ENoverv = np.array((1/data[1][1:])).reshape(-1,1)\n",
    "\n",
    "\n",
    "\n",
    "print(ENoverS,ENoverv)"
   ]
  },
  {
   "cell_type": "markdown",
   "metadata": {},
   "source": [
    "***\n",
    "\n",
    "På lik måte som ved kurvetilpassingen bruker vi en pakke for å gjøre lineærregresjonen. Den benytter seg av en lineær minstekvadratersmetode for å lage en teoretisk heltrukketlinje på $y = ax+b$ formatet som best passer de eksperimentelle dataene. \n",
    "\n",
    "***"
   ]
  },
  {
   "cell_type": "code",
   "execution_count": 14,
   "metadata": {},
   "outputs": [
    {
     "data": {
      "text/plain": [
       "Text(0, 0.5, '1/[S]')"
      ]
     },
     "execution_count": 14,
     "metadata": {},
     "output_type": "execute_result"
    },
    {
     "data": {
      "image/png": "[encoded data removed]",
      "text/plain": [
       "<Figure size 432x288 with 1 Axes>"
      ]
     },
     "metadata": {
      "needs_background": "light"
     },
     "output_type": "display_data"
    }
   ],
   "source": [
    "plt.scatter(ENoverS,ENoverv)\n",
    "lineærRegresjon = LinearRegression()\n",
    "lineærRegresjon.fit(ENoverS,ENoverv)\n",
    "Predikert_data = lineærRegresjon.predict(ENoverS)\n",
    "\n",
    "plt.plot(ENoverS, Predikert_data)\n",
    "plt.title('Lineweaver-Burke plot')\n",
    "plt.xlabel('1/v$_0$')\n",
    "plt.ylabel('1/[S]')"
   ]
  },
  {
   "cell_type": "markdown",
   "metadata": {},
   "source": [
    "***\n",
    "\n",
    "##### Øppgave 3.1: Gjennomfør lineærregresjonen av datasettet deres og notere Vmax og Km verdier. \n",
    "\n",
    "***"
   ]
  },
  {
   "cell_type": "code",
   "execution_count": 15,
   "metadata": {},
   "outputs": [
    {
     "name": "stdout",
     "output_type": "stream",
     "text": [
      "Ved bruk av Lineweaver-Burke er Vmax:[0.00081683] og Km:[[4.03767514e-05]]\n"
     ]
    }
   ],
   "source": [
    "y_skjæringspunkt = lineærRegresjon.intercept_\n",
    "stigningstall = lineærRegresjon.coef_\n",
    "\n",
    "Vmax = 1/y_skjæringspunkt\n",
    "Km = Vmax*stigningstall\n",
    "\n",
    "print(('Ved bruk av Lineweaver-Burke er Vmax:{} og Km:{}').format(Vmax, Km))"
   ]
  },
  {
   "cell_type": "code",
   "execution_count": null,
   "metadata": {},
   "outputs": [],
   "source": []
  }
 ],
 "metadata": {
  "kernelspec": {
   "display_name": "Python 3",
   "language": "python",
   "name": "python3"
  },
  "language_info": {
   "codemirror_mode": {
    "name": "ipython",
    "version": 3
   },
   "file_extension": ".py",
   "mimetype": "text/x-python",
   "name": "python",
   "nbconvert_exporter": "python",
   "pygments_lexer": "ipython3",
   "version": "3.8.3"
  }
 },
 "nbformat": 4,
 "nbformat_minor": 4
}
