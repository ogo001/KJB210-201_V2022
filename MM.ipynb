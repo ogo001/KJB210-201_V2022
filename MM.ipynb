{
 "cells": [
  {
   "cell_type": "markdown",
   "metadata": {},
   "source": [
    "# Øvelse 4 - Michaelis-Menten "
   ]
  },
  {
   "cell_type": "markdown",
   "metadata": {},
   "source": [
    "## Innledning om Michaelis - Menten "
   ]
  },
  {
   "cell_type": "code",
   "execution_count": 1,
   "metadata": {},
   "outputs": [],
   "source": [
    "import pandas as pd\n",
    "import numpy as np\n",
    "from scipy.optimize import curve_fit\n",
    "from sklearn.linear_model import LinearRegression\n",
    "import matplotlib.pyplot as plt"
   ]
  },
  {
   "cell_type": "markdown",
   "metadata": {},
   "source": [
    "Ved å bruke python har vi bedre kontroll over databehandlingen, men det krever at vi må spesifisere hva vi vil oppnå med kode. Nedover i dette arbeidsarket skal vi se på hvordan vi henter inn resultatene fra laboratoriet og bedømmer Km og Vmax ved bruk av 3 metoder. \n",
    "\n",
    "1. Bedømme Km og Vmax visuellt\n",
    "2. Bedømme Km og Vmax med kurvetilpassning \n",
    "3. Bedømme Km og Vmax ved bruk av Lineweaver-Burke plot"
   ]
  },
  {
   "cell_type": "markdown",
   "metadata": {},
   "source": [
    "### 1.Bedømme Km og Vmax visuellt \n",
    "\n",
    "Ved å bedømme Km og Vmax visuellt, så ser vi på grafen av [v] mot [S] og bestemmer en horisontal linje som går parallellt med den hyperbole kurven. Nedenfor skal dere endre på Vmax verdien slik at den ligger parallellt med de eksperimentelle resultatene deres.    "
   ]
  },
  {
   "cell_type": "code",
   "execution_count": 2,
   "metadata": {},
   "outputs": [],
   "source": [
    "fil = open('Data.csv','r')                            # For å få tilgang til dataen vår, så må vi åpne filene, her skriver vi inn navnet på filen og r for at vi skal lese (read) deretter lagres dataen som variablen fil  \n",
    "data = pd.read_csv(fil, header = None, skiprows = 1)  # Videre må vi justere litt på filen for å hente ut den infromasjonen vi tenger, vi kan kun lese inn nummer her, derfor hopper vi over første linje (skiprows) og sier at det ikke overskrifter i file (Header = None) \n",
    "                                                      #\n",
    "S = (data[0])                                         #I python teller vi fra og med 0, vi henter derfor inn substrat konsentrasjonene S fra kolonne 0\n",
    "v = (data[1])                                         #Dertter henter vi inn initial hastighetene fra kollonne 1      "
   ]
  },
  {
   "cell_type": "code",
   "execution_count": 3,
   "metadata": {},
   "outputs": [
    {
     "name": "stdout",
     "output_type": "stream",
     "text": [
      "          0        1   2   3\n",
      "0  0.000000  0.00000 NaN NaN\n",
      "1  0.000008  0.00015 NaN NaN\n",
      "2  0.000017  0.00020 NaN NaN\n",
      "3  0.000034  0.00035 NaN NaN\n",
      "4  0.000068  0.00055 NaN NaN\n",
      "5  0.000101  0.00055 NaN NaN\n",
      "6  0.000169  0.00075 NaN NaN\n",
      "7  0.000337  0.00080 NaN NaN\n",
      "8  0.000840  0.00085 NaN NaN\n",
      "9  0.002940  0.00090 NaN NaN\n"
     ]
    }
   ],
   "source": [
    "print(data) #Det første vi ønsker å gjøre er å se på at vi har lest inn filene våre riktig, hvordan ser dette ut iforhold til csv filen deres?"
   ]
  },
  {
   "cell_type": "code",
   "execution_count": 4,
   "metadata": {},
   "outputs": [
    {
     "name": "stdout",
     "output_type": "stream",
     "text": [
      "Ved å visuellt bedømme grafen er Vmax:0.0009\n"
     ]
    },
    {
     "data": {
      "image/png": "[encoded data removed]",
      "text/plain": [
       "<Figure size 432x288 with 1 Axes>"
      ]
     },
     "metadata": {
      "needs_background": "light"
     },
     "output_type": "display_data"
    }
   ],
   "source": [
    "plt.scatter(S,v)\n",
    "plt.title('Initialhastighet mot substratkonsentrasjon plot')\n",
    "plt.xlabel('[S]')\n",
    "plt.ylabel('v$_0$')\n",
    "\n",
    "Vmax = 0.0009\n",
    "Km = Vmax/2\n",
    "plt.axhline(Vmax, color = 'black')\n",
    "\n",
    "print(('Ved å visuellt bedømme grafen er Vmax:{}').format(Vmax))\n",
    "\n"
   ]
  },
  {
   "cell_type": "markdown",
   "metadata": {},
   "source": [
    "For å bedømme Km så vet vi at det er substrat konsentrasjonen med Vmax/2. I denne grafen ser vi at det blir litt vanskelig å lett bedømme Km, vi kan derfor endre litt på innstillingene for å lettere bestemme Km"
   ]
  },
  {
   "cell_type": "code",
   "execution_count": 5,
   "metadata": {},
   "outputs": [
    {
     "name": "stdout",
     "output_type": "stream",
     "text": [
      "Ved å visuellt bedømme grafen er Vmax:0.0009 og Km:5e-05\n"
     ]
    },
    {
     "data": {
      "image/png": "[encoded data removed]",
      "text/plain": [
       "<Figure size 432x288 with 1 Axes>"
      ]
     },
     "metadata": {
      "needs_background": "light"
     },
     "output_type": "display_data"
    }
   ],
   "source": [
    "plt.plot(S,v)\n",
    "plt.title('Utsnitt av hastighet mot substrat plot ')\n",
    "plt.xlabel('[S]')\n",
    "plt.ylabel('v$_0$')\n",
    "plt.xlim(0,0.0002)\n",
    "plt.ticklabel_format(axis = 'both', style = 'sci', scilimits=(0,0))\n",
    "\n",
    "\n",
    "Vmax = 0.0009\n",
    "Vmax_halve = Vmax/2\n",
    "Km = 0.00005\n",
    "\n",
    "\n",
    "plt.axhline(Vmax_halve, color = 'black', linestyle = '--')\n",
    "plt.axvline(Km, color = 'black', linestyle = '--' )\n",
    "\n",
    "\n",
    "print(('Ved å visuellt bedømme grafen er Vmax:{} og Km:{}').format(Vmax, Km))"
   ]
  },
  {
   "cell_type": "markdown",
   "metadata": {},
   "source": [
    "### 2. Bedømme Km og Vmax med kurvetilpassning\n",
    "\n",
    "Ved å bedømme Km og Vmax ved bruk at kurvetilpassning så bruker vi Michaelis-Menten funksjonen $v = Vmax[S]/Km + [S]$ til å beregne Km og Vmax verdier som passer de eksperiemtelle resultatene best. Dette gjøres ved å gjennomføre en minste kvadraters metode for hvert punkt. Dette er noe som gjøres mye i databehandling, og det fine med python er at det vil alltid finnes noen som har gjort det dere lurer på før dere. Dette kan vi benytte og noen har skrevet kode for å gjennomføre kurvetilpassing for oss. "
   ]
  },
  {
   "cell_type": "code",
   "execution_count": 6,
   "metadata": {},
   "outputs": [],
   "source": [
    "def Michaelis_Menten_Funksjonen(S, km, vmax):\n",
    "        return((km*S)/(vmax+S))\n",
    "\n",
    "\n",
    "pars, cov = curve_fit(f = Michaelis_Menten_Funksjonen, xdata = S,ydata = v)\n",
    "\n"
   ]
  },
  {
   "cell_type": "code",
   "execution_count": null,
   "metadata": {},
   "outputs": [],
   "source": []
  },
  {
   "cell_type": "code",
   "execution_count": 7,
   "metadata": {},
   "outputs": [],
   "source": [
    "xModel = np.linspace(min(S), max(S))\n",
    "yModel = Michaelis_Menten_Funksjonen(xModel, *pars)"
   ]
  },
  {
   "cell_type": "code",
   "execution_count": 8,
   "metadata": {},
   "outputs": [
    {
     "name": "stdout",
     "output_type": "stream",
     "text": [
      "Ved bruk av kurvetilpassning er Vmax:0.0009187680928522808 og Km:5.235215587388615e-05\n"
     ]
    },
    {
     "data": {
      "image/png": "[encoded data removed]",
      "text/plain": [
       "<Figure size 432x288 with 1 Axes>"
      ]
     },
     "metadata": {
      "needs_background": "light"
     },
     "output_type": "display_data"
    }
   ],
   "source": [
    "plt.plot(xModel, yModel)\n",
    "plt.scatter(S,v)\n",
    "plt.title('Kurvetilpasset data')\n",
    "plt.xlabel('[S]')\n",
    "plt.ylabel('v$_0$')\n",
    "Vmax, Km = pars\n",
    "print(('Ved bruk av kurvetilpassning er Vmax:{} og Km:{}').format(Vmax, Km))\n",
    "\n"
   ]
  },
  {
   "cell_type": "markdown",
   "metadata": {},
   "source": [
    "### 3. Bedømme Km og Vmax med Lineweaver-Burke \n",
    "\n",
    "Lineweaver-Burke er en transformering av den hyperbole Michaelis-Menten funksjonen til en lineær funksjon, dette gjøres ved å gjennomføre en resiprokal av Michaelis-Menten funksjonen. Vi kan ved bruk av denne metoden bestemme Vmax fra y-akseen og Km fra stigningstallet.  \n",
    "\n"
   ]
  },
  {
   "cell_type": "code",
   "execution_count": 9,
   "metadata": {},
   "outputs": [
    {
     "name": "stdout",
     "output_type": "stream",
     "text": [
      "          0        1   2   3\n",
      "0  0.000000  0.00000 NaN NaN\n",
      "1  0.000008  0.00015 NaN NaN\n",
      "2  0.000017  0.00020 NaN NaN\n",
      "3  0.000034  0.00035 NaN NaN\n",
      "4  0.000068  0.00055 NaN NaN\n",
      "5  0.000101  0.00055 NaN NaN\n",
      "6  0.000169  0.00075 NaN NaN\n",
      "7  0.000337  0.00080 NaN NaN\n",
      "8  0.000840  0.00085 NaN NaN\n",
      "9  0.002940  0.00090 NaN NaN\n"
     ]
    }
   ],
   "source": [
    "print(data)"
   ]
  },
  {
   "cell_type": "markdown",
   "metadata": {},
   "source": [
    "For å kunne gjennomføre en resiprokal, så må vi modifisere dataen litt siden vi kan ikke dele på 0, vi må derfor fjerne en rad fra de eksperimentelle dataene. I python kan vi gjøre dette ved å endre på hvor mye vi leser inn i en variabel "
   ]
  },
  {
   "cell_type": "code",
   "execution_count": 10,
   "metadata": {},
   "outputs": [
    {
     "name": "stdout",
     "output_type": "stream",
     "text": [
      "[[119047.61904762]\n",
      " [ 59171.59763314]\n",
      " [ 29673.59050445]\n",
      " [ 14814.81481481]\n",
      " [  9900.99009901]\n",
      " [  5917.15976331]\n",
      " [  2967.35905045]\n",
      " [  1190.47619048]\n",
      " [   340.13605442]] [[6666.66666667]\n",
      " [5000.        ]\n",
      " [2857.14285714]\n",
      " [1818.18181818]\n",
      " [1818.18181818]\n",
      " [1333.33333333]\n",
      " [1250.        ]\n",
      " [1176.47058824]\n",
      " [1111.11111111]]\n"
     ]
    }
   ],
   "source": [
    "ENoverS = np.array((1/data[0][1:])).reshape(-1,1)\n",
    "ENoverv = np.array((1/data[1][1:])).reshape(-1,1)\n",
    "\n",
    "\n",
    "\n",
    "print(ENoverS,ENoverv)"
   ]
  },
  {
   "cell_type": "code",
   "execution_count": 11,
   "metadata": {},
   "outputs": [
    {
     "data": {
      "text/plain": [
       "Text(0, 0.5, '1/[S]')"
      ]
     },
     "execution_count": 11,
     "metadata": {},
     "output_type": "execute_result"
    },
    {
     "data": {
      "image/png": "[encoded data removed]",
      "text/plain": [
       "<Figure size 432x288 with 1 Axes>"
      ]
     },
     "metadata": {
      "needs_background": "light"
     },
     "output_type": "display_data"
    }
   ],
   "source": [
    "plt.scatter(ENoverS,ENoverv)\n",
    "lineærRegresjon = LinearRegression()\n",
    "lineærRegresjon.fit(ENoverS,ENoverv)\n",
    "Predikert_data = lineærRegresjon.predict(ENoverS)\n",
    "\n",
    "plt.plot(ENoverS, Predikert_data)\n",
    "plt.title('Lineweaver-Burke plot')\n",
    "plt.xlabel('1/v$_0$')\n",
    "plt.ylabel('1/[S]')"
   ]
  },
  {
   "cell_type": "code",
   "execution_count": 12,
   "metadata": {},
   "outputs": [
    {
     "name": "stdout",
     "output_type": "stream",
     "text": [
      "Ved bruk av Lineweaver-Burke er Vmax:[0.00081683] og Km:[[4.03767514e-05]]\n"
     ]
    }
   ],
   "source": [
    "y_skjæringspunkt = lineærRegresjon.intercept_\n",
    "stigningstall = lineærRegresjon.coef_\n",
    "\n",
    "Vmax = 1/y_skjæringspunkt\n",
    "Km = Vmax*stigningstall\n",
    "\n",
    "print(('Ved bruk av Lineweaver-Burke er Vmax:{} og Km:{}').format(Vmax, Km))"
   ]
  },
  {
   "cell_type": "code",
   "execution_count": null,
   "metadata": {},
   "outputs": [],
   "source": []
  }
 ],
 "metadata": {
  "kernelspec": {
   "display_name": "Python 3",
   "language": "python",
   "name": "python3"
  },
  "language_info": {
   "codemirror_mode": {
    "name": "ipython",
    "version": 3
   },
   "file_extension": ".py",
   "mimetype": "text/x-python",
   "name": "python",
   "nbconvert_exporter": "python",
   "pygments_lexer": "ipython3",
   "version": "3.8.3"
  }
 },
 "nbformat": 4,
 "nbformat_minor": 4
}
